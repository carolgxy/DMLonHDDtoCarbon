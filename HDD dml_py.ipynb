{
 "cells": [
  {
   "cell_type": "code",
   "execution_count": null,
   "metadata": {
    "colab": {
     "base_uri": "https://localhost:8080/"
    },
    "collapsed": true,
    "executionInfo": {
     "elapsed": 9103,
     "status": "ok",
     "timestamp": 1758716621121,
     "user": {
      "displayName": "Xinyue GU",
      "userId": "18051599132328591709"
     },
     "user_tz": -480
    },
    "id": "S9RP7I-qnkw5",
    "outputId": "1eca0bc0-46e4-4043-d723-2f858baf1352"
   },
   "outputs": [],
   "source": [
    "!pip install doubleml"
   ]
  },
  {
   "cell_type": "code",
   "execution_count": 2,
   "metadata": {
    "colab": {
     "base_uri": "https://localhost:8080/"
    },
    "executionInfo": {
     "elapsed": 6527,
     "status": "ok",
     "timestamp": 1758716627651,
     "user": {
      "displayName": "Xinyue GU",
      "userId": "18051599132328591709"
     },
     "user_tz": -480
    },
    "id": "Oyb6EIgOm5-r",
    "outputId": "fe83ec79-24e5-415e-8a67-62f3dbf521c9"
   },
   "outputs": [
    {
     "name": "stdout",
     "output_type": "stream",
     "text": [
      "Python version: 3.12.11 (main, Jun  4 2025, 08:56:18) [GCC 11.4.0]\n",
      "DoubleML version: 0.10.1\n"
     ]
    }
   ],
   "source": [
    "import sys\n",
    "import doubleml\n",
    "\n",
    "print(f\"Python version: {sys.version}\")\n",
    "print(f\"DoubleML version: {doubleml.__version__}\")"
   ]
  },
  {
   "cell_type": "code",
   "execution_count": 3,
   "metadata": {
    "executionInfo": {
     "elapsed": 704,
     "status": "ok",
     "timestamp": 1758716628359,
     "user": {
      "displayName": "Xinyue GU",
      "userId": "18051599132328591709"
     },
     "user_tz": -480
    },
    "id": "hhvpXyFHL3WO"
   },
   "outputs": [],
   "source": [
    "import numpy as np\n",
    "import pandas as pd\n",
    "import matplotlib.pyplot as plt\n",
    "import seaborn as sns\n",
    "import patsy\n",
    "from doubleml import DoubleMLData, DoubleMLPLR\n",
    "from sklearn.ensemble import RandomForestRegressor\n",
    "from sklearn.linear_model import LassoCV\n",
    "from xgboost import XGBRegressor\n",
    "import warnings\n",
    "from typing import List, Dict\n",
    "\n",
    "warnings.filterwarnings('ignore')"
   ]
  },
  {
   "cell_type": "markdown",
   "metadata": {
    "id": "RC0gOknulyxe"
   },
   "source": [
    "**Data preparation**"
   ]
  },
  {
   "cell_type": "code",
   "execution_count": null,
   "metadata": {
    "executionInfo": {
     "elapsed": 615,
     "status": "ok",
     "timestamp": 1758721493542,
     "user": {
      "displayName": "Xinyue GU",
      "userId": "18051599132328591709"
     },
     "user_tz": -480
    },
    "id": "_zQTcU82lFDn"
   },
   "outputs": [],
   "source": [
    "data = pd.read_csv(\"global_combined_HDD.csv\")\n",
    "\n",
    "data['wealth'] = np.where((data['wealth'] == -1) & (data['income'] != -1),\n",
    "                         data['income'], data['wealth'])\n",
    "data = data[data['wealth'] != -1]\n",
    "data = data.drop(columns=[\"income\", \"total_HDD\", \"mean_temp\", \"threshold\"])\n",
    "\n",
    "data = data.sort_values(by=['GDLcode', 'time'])\n",
    "data['carbon_emission_lag1'] = data.groupby('GDLcode')['carbon emission'].shift(1)\n",
    "\n",
    "data = data.dropna()\n",
    "data = data[data['HDD_days'] != 0]\n",
    "\n",
    "#Select research areas\n",
    "countries = [\"AUT\", \"BEL\", \"BGR\", \"HRV\", \"CYP\", \"CZE\", \"DNK\", \"EST\", \"FIN\", \"FRA\", \"DEU\", \"GRC\", \"HUN\", \"IRL\", \"ITA\", \"LVA\", \"LTU\", \"LUX\", \"MLT\", \"NLD\", \"POL\", \"PRT\", \"ROU\", \"SVK\", \"SVN\", \"ESP\", \"SWE\"]\n",
    "#countries = [\"GBR\"]\n",
    "#countries = [\"CAN\"]\n",
    "#countries = [\"USA\"]\n",
    "#countries = [\"CHN\"]\n",
    "#countries = [\"RUS\"]\n",
    "\n",
    "data = data[data['GDLcode'].str.contains('|'.join(countries), na=False)]"
   ]
  },
  {
   "cell_type": "markdown",
   "metadata": {
    "id": "PZYm6RJJP4Jz"
   },
   "source": [
    "**Data cleansing**"
   ]
  },
  {
   "cell_type": "code",
   "execution_count": null,
   "metadata": {
    "colab": {
     "base_uri": "https://localhost:8080/"
    },
    "executionInfo": {
     "elapsed": 22,
     "status": "ok",
     "timestamp": 1758721496601,
     "user": {
      "displayName": "Xinyue GU",
      "userId": "18051599132328591709"
     },
     "user_tz": -480
    },
    "id": "Tcf2pY1NYdH4",
    "outputId": "a3789c04-87f1-4db3-f583-9c709d16696a"
   },
   "outputs": [],
   "source": [
    "df = data.copy()\n",
    "\n",
    "Q1 = df['carbon emission'].quantile(0.25)\n",
    "Q3 = df['carbon emission'].quantile(0.75)\n",
    "IQR = Q3 - Q1\n",
    "\n",
    "lower_bound = Q1 - 2 * IQR\n",
    "upper_bound = Q3 + 2 * IQR\n",
    "\n",
    "df['outlier'] = (df['carbon emission'] < lower_bound) | (df['carbon emission'] > upper_bound)\n",
    "\n",
    "# delect outlier\n",
    "data = df[~df['outlier']].drop(columns='outlier')"
   ]
  },
  {
   "cell_type": "code",
   "execution_count": null,
   "metadata": {
    "colab": {
     "base_uri": "https://localhost:8080/",
     "height": 607
    },
    "collapsed": true,
    "executionInfo": {
     "elapsed": 2742,
     "status": "ok",
     "timestamp": 1758721500090,
     "user": {
      "displayName": "Xinyue GU",
      "userId": "18051599132328591709"
     },
     "user_tz": -480
    },
    "id": "l9RS9DpIY_j1",
    "outputId": "f271cb6f-7b54-4d68-cbad-da0fb1ac6d25"
   },
   "outputs": [],
   "source": [
    "variables = [\"HDD_days\", \"carbon_emission_lag1\", \"temperature\", \"radiation\", \"precipitation\",\"surface temp\", \"windspeed\",\n",
    "             \"GDP\", \"population\", \"age\",\"education\", \"gender\", \"Hhsize\", \"wealth\", \"rural\"]\n",
    "\n",
    "df = data[variables + ['carbon emission']].copy()\n",
    "\n",
    "df_long = pd.melt(df, id_vars='carbon emission', value_vars=variables,\n",
    "                  var_name='Variable', value_name='Value')\n",
    "\n",
    "df_long['VarGroup'] = df_long.groupby('Variable')['Value'] \\\n",
    "                             .transform(lambda x: pd.qcut(x, 3, labels=False, duplicates='drop') + 1)\n",
    "\n",
    "ncol = 5\n",
    "nrow = int(np.ceil(len(variables) / ncol))\n",
    "fig, axes = plt.subplots(nrow, ncol, figsize=(ncol * 2, nrow * 2), sharey=True)\n",
    "axes = axes.flatten()\n",
    "\n",
    "gray_colors = plt.cm.Greys(np.linspace(0, 0.5, 3))\n",
    "\n",
    "# plot\n",
    "for i, var in enumerate(variables):\n",
    "    ax = axes[i]\n",
    "    subset = df_long[df_long['Variable'] == var]\n",
    "    groups = [group[\"carbon emission\"].values for name, group in subset.groupby('VarGroup')]\n",
    "\n",
    "    box = ax.boxplot(groups, patch_artist=True, showfliers=True,\n",
    "                     flierprops=dict(marker='o', markerfacecolor='black', markersize=2, linestyle='none'))\n",
    "\n",
    "    for patch, color in zip(box['boxes'], gray_colors):\n",
    "        patch.set_facecolor(color)\n",
    "        patch.set_edgecolor('black')\n",
    "        patch.set_alpha(0.9)\n",
    "\n",
    "    for element in ['whiskers', 'caps', 'medians']:\n",
    "        for line in box[element]:\n",
    "            line.set_color('black')\n",
    "            line.set_alpha(0.9)\n",
    "\n",
    "    ax.set_title(var, fontweight='bold', fontsize=11)\n",
    "    ax.set_xticklabels([str(i) for i in range(1, len(groups)+1)], fontsize=9)\n",
    "    ax.tick_params(axis='y', labelsize=9)\n",
    "    if i % ncol == 0:\n",
    "        ax.set_ylabel('Carbon Emission', fontsize=10)\n",
    "\n",
    "for j in range(len(variables), len(axes)):\n",
    "    fig.delaxes(axes[j])\n",
    "\n",
    "plt.tight_layout(rect=[0, 0, 1, 1])\n",
    "plt.show()"
   ]
  },
  {
   "cell_type": "markdown",
   "metadata": {
    "id": "7qH8ALJ1ndyx"
   },
   "source": [
    "**DML model**"
   ]
  },
  {
   "cell_type": "code",
   "execution_count": null,
   "metadata": {
    "colab": {
     "base_uri": "https://localhost:8080/",
     "height": 553
    },
    "collapsed": true,
    "executionInfo": {
     "elapsed": 2211914,
     "status": "ok",
     "timestamp": 1750410907250,
     "user": {
      "displayName": "Xinyue GU",
      "userId": "18051599132328591709"
     },
     "user_tz": -120
    },
    "id": "eW2IFjp9Pu7B",
    "outputId": "8a9d678d-ee66-4eef-940e-a4e1dd75cd66"
   },
   "outputs": [],
   "source": [
    "def get_param_grids():\n",
    "    lasso_params = {\n",
    "        'alphas': [np.logspace(-5, 0, 5, 10)],\n",
    "        'max_iter': [100, 500, 800, 1000],\n",
    "        'cv': [5]\n",
    "    }\n",
    "\n",
    "    rf_params = {\n",
    "        'n_estimators': [100, 250, 500],\n",
    "        'max_depth': [3, 5, 10],\n",
    "        'min_samples_split': [2, 6, 10]\n",
    "    }\n",
    "\n",
    "    xgb_params = {\n",
    "        'n_estimators': [100, 250, 500],\n",
    "        'max_depth': [3, 5, 10],\n",
    "        'learning_rate': [0.01, 0.1, 0.3],\n",
    "        'subsample': [0.3, 0.5, 1.0]\n",
    "    }\n",
    "\n",
    "    return {'ml_l': xgb_params, 'ml_m': rf_params}, {'ml_l': lasso_params, 'ml_m': rf_params}\n",
    "\n",
    "# DML\n",
    "class DoubleMLAnalysis:\n",
    "    def __init__(self, data: pd.DataFrame, X_cols: List[str], y_col: str, d_cols: str):\n",
    "        self.data = data\n",
    "        self.X_cols = X_cols\n",
    "        self.y_col = y_col\n",
    "        self.d_cols = d_cols\n",
    "        self.results_main = pd.DataFrame()\n",
    "        self.results_robust = pd.DataFrame()\n",
    "        self.cate_results = []\n",
    "\n",
    "    def _prepare_spline_basis(self, var_name=\"wealth\", df=5, degree=2):\n",
    "        formula = f\"bs({var_name}, df={df}, degree={degree})\"\n",
    "        design_matrix = patsy.dmatrix(formula, {var_name: self.data[var_name]})\n",
    "        return pd.DataFrame(design_matrix)\n",
    "\n",
    "    def _prepare_spline_grid(self, var_name=\"wealth\", n_points=100, design_info=None):\n",
    "        new_data = {var_name: np.linspace(self.data[var_name].min(),\n",
    "                    self.data[var_name].max(), n_points)}\n",
    "        return pd.DataFrame(patsy.build_design_matrices([design_info], new_data)[0])\n",
    "\n",
    "    def _process_cate(self, cate, design_info, var_name=\"wealth\"):\n",
    "        spline_grid = self._prepare_spline_grid(var_name=var_name, design_info=design_info)\n",
    "        df_cate = cate.confint(spline_grid, level=0.95, joint=True, n_rep_boot=2000)\n",
    "        df_cate[var_name] = np.linspace(self.data[var_name].min(),\n",
    "                                       self.data[var_name].max(),\n",
    "                                       len(df_cate))\n",
    "        return df_cate\n",
    "\n",
    "    def _plot_cates(self, cate_results: List[Dict], var_name=\"wealth\"):\n",
    "        plt.figure(figsize=(5, 3))\n",
    "        base_color = \"#ace4e4\" #colors = {'EU': '#e8e8e8','UK': '#5ac8c8','Canada': '#a5add3','US': '#be64ac','China': '#3b4994','Russia': '#ace4e4'}\n",
    "\n",
    "        for i, res in enumerate(cate_results):\n",
    "          df = res['cate_df']\n",
    "          label = f\"{res['model_type']} (Run {res['run']})\"\n",
    "          line = plt.plot(df[var_name], df['effect'],\n",
    "                        color=base_color,\n",
    "                        alpha=1,\n",
    "                        linewidth=2,\n",
    "                        label=label)\n",
    "\n",
    "          plt.fill_between(df[var_name],\n",
    "                          df['2.5 %'],\n",
    "                          df['97.5 %'],\n",
    "                          color=base_color,\n",
    "                          alpha=0.05)\n",
    "\n",
    "        plt.title(\"Russia\")\n",
    "        plt.xlabel(var_name.capitalize())\n",
    "        plt.ylabel('Treatment Effect on Carbon Emission')\n",
    "        plt.grid(True, linestyle='--', alpha=0.5)\n",
    "        plt.show()\n",
    "\n",
    "    def run_analysis(self, num_runs):\n",
    "        main_param_grids, robust_param_grids = get_param_grids()\n",
    "\n",
    "        for i in range(1, num_runs + 1):\n",
    "            np.random.seed(i)\n",
    "            dml_data = DoubleMLData(self.data, self.y_col, self.d_cols, self.X_cols)\n",
    "\n",
    "            # main (XGBoost + RF)\n",
    "            try:\n",
    "                model_main = DoubleMLPLR(dml_data, XGBRegressor(), RandomForestRegressor())\n",
    "                model_main.tune(main_param_grids, tune_on_folds=False, n_folds_tune=5)\n",
    "                model_main.fit(n_jobs_cv=8)\n",
    "\n",
    "                s = model_main.summary\n",
    "                if not s.empty:\n",
    "                    self.results_main = pd.concat([\n",
    "                        self.results_main,\n",
    "                        self._process_results(s, i, \"Main\")\n",
    "                    ], ignore_index=True)\n",
    "\n",
    "                # CATE\n",
    "                design_matrix = patsy.dmatrix(\"bs(wealth, df=5, degree=2)\",\n",
    "                                             {\"wealth\": self.data[\"wealth\"]})\n",
    "                cate = model_main.cate(pd.DataFrame(design_matrix))\n",
    "                df_cate = self._process_cate(cate, design_matrix.design_info)\n",
    "                self.cate_results.append({\n",
    "                    'run': i,\n",
    "                    'model_type': 'XGBoost+RF',\n",
    "                    'cate_df': df_cate,\n",
    "                    'model': model_main\n",
    "                })\n",
    "\n",
    "            except Exception as e:\n",
    "                print(f\"Main Run {i} failed: {str(e)}\")\n",
    "\n",
    "            # robust (LASSO + RF)\n",
    "            try:\n",
    "                model_robust = DoubleMLPLR(dml_data, LassoCV(), RandomForestRegressor())\n",
    "                model_robust.tune(robust_param_grids, tune_on_folds=False, n_folds_tune=5)\n",
    "                model_robust.fit(n_jobs_cv=8)\n",
    "\n",
    "                s = model_robust.summary\n",
    "                if not s.empty:\n",
    "                    self.results_robust = pd.concat([\n",
    "                        self.results_robust,\n",
    "                        self._process_results(s, i, \"Robust\")\n",
    "                    ], ignore_index=True)\n",
    "\n",
    "                cate = model_robust.cate(pd.DataFrame(design_matrix))  # 使用相同的design_matrix\n",
    "                df_cate = self._process_cate(cate, design_matrix.design_info)\n",
    "                self.cate_results.append({\n",
    "                    'run': i,\n",
    "                    'model_type': 'LASSO+RF',\n",
    "                    'cate_df': df_cate,\n",
    "                    'model': model_robust\n",
    "                })\n",
    "\n",
    "            except Exception as e:\n",
    "                print(f\"Robustness Run {i} failed: {str(e)}\")\n",
    "\n",
    "        # plot\n",
    "        self._plot_cates(self.cate_results)\n",
    "\n",
    "        return self\n",
    "\n",
    "    def _process_results(self, summary_df, run_id, model_type):\n",
    "        df = summary_df.reset_index().rename(\n",
    "            columns={'index': 'term', 'std err': 'std_err', 'P>|t|': 'p_value'})\n",
    "        df['run'] = run_id\n",
    "        df['model_type'] = model_type\n",
    "        return df\n",
    "\n",
    "    def get_summary_stats(self):\n",
    "        def _create_summary(df):\n",
    "            if not df.empty:\n",
    "                summary = df.groupby(['model_type', 'term']).agg({\n",
    "                    'coef': ['mean', 'std'],\n",
    "                    'std_err': 'mean',\n",
    "                    't': 'mean',\n",
    "                    'p_value': 'mean'\n",
    "                })\n",
    "                summary.columns = ['_'.join(col).strip() for col in summary.columns.values]\n",
    "                return summary\n",
    "            return pd.DataFrame()\n",
    "\n",
    "        return {\n",
    "            'main': _create_summary(self.results_main),\n",
    "            'robust': _create_summary(self.results_robust)\n",
    "        }\n",
    "\n",
    "if __name__ == \"__main__\":\n",
    "    analysis = DoubleMLAnalysis(\n",
    "        data=data,\n",
    "        X_cols=[\"carbon_emission_lag1\", \"temperature\", \"radiation\", \"precipitation\",\n",
    "                \"surface temp\", \"windspeed\", \"GDP\", \"population\", \"age\",\n",
    "                \"education\", \"gender\", \"Hhsize\", \"wealth\", \"rural\"],\n",
    "        y_col=\"carbon emission\",\n",
    "        d_cols=\"HDD_days\"\n",
    "    )\n",
    "\n",
    "    # run 5 times\n",
    "    analysis.run_analysis(num_runs=5)\n",
    "\n",
    "    # summarize\n",
    "    summaries = analysis.get_summary_stats()\n",
    "\n",
    "    print(\"\\n=== Main Analysis Summary (XGBoost + RF) ===\")\n",
    "    print(summaries['main'].round(4))\n",
    "\n",
    "    print(\"\\n=== Robustness Check Summary (LASSO + RF)  ===\")\n",
    "    print(summaries['robust'].round(4))\n",
    "\n",
    "    print(\"\\nSignif. codes: 0 '***' 0.001 '**' 0.01 '*' 0.05 '.' 0.1 ' ' 1\")"
   ]
  },
  {
   "cell_type": "markdown",
   "metadata": {
    "id": "g7lGCjeJpIyH"
   },
   "source": [
    "**Heterogeneity analysis**"
   ]
  },
  {
   "cell_type": "code",
   "execution_count": null,
   "metadata": {
    "colab": {
     "base_uri": "https://localhost:8080/",
     "height": 1000
    },
    "executionInfo": {
     "elapsed": 3559563,
     "status": "ok",
     "timestamp": 1750414466817,
     "user": {
      "displayName": "Xinyue GU",
      "userId": "18051599132328591709"
     },
     "user_tz": -120
    },
    "id": "tzB0WTYqLOqZ",
    "outputId": "61858cc5-9fcc-4061-8387-fa6f366bb3ad"
   },
   "outputs": [],
   "source": [
    "if __name__ == \"__main__\":\n",
    "\n",
    "    data['wealth_group'] = pd.qcut(data['wealth'], q=3, labels=[\"Low\", \"Medium\", \"High\"])\n",
    "\n",
    "    all_summaries = {}\n",
    "\n",
    "    for group in [\"Low\", \"Medium\", \"High\"]:\n",
    "        print(f\"\\n{'='*40}\\nRunning analysis for Wealth Group: {group}\\n{'='*40}\")\n",
    "\n",
    "        group_data = data[data['wealth_group'] == group].copy()\n",
    "\n",
    "        analysis = DoubleMLAnalysis(\n",
    "            data=group_data,\n",
    "            X_cols=[\"carbon_emission_lag1\", \"temperature\", \"radiation\", \"precipitation\",\n",
    "                    \"surface temp\", \"windspeed\", \"GDP\", \"population\", \"age\",\n",
    "                    \"education\", \"gender\", \"Hhsize\", \"rural\"],  # 移除了wealth_group列避免多重共线性)\n",
    "            y_col=\"carbon emission\",\n",
    "            d_cols=\"HDD_days\"\n",
    "        )\n",
    "\n",
    "        analysis.run_analysis(num_runs=5)\n",
    "\n",
    "        summaries = analysis.get_summary_stats()\n",
    "        all_summaries[group] = summaries\n",
    "\n",
    "        print(f\"\\n=== {group} Wealth - Main Analysis (XGBoost+RF)  ===\")\n",
    "        print(summaries['main'].round(4))\n",
    "\n",
    "        print(f\"\\n=== {group} Wealth - Robustness Check (LASSO + RF)  ===\")\n",
    "        print(summaries['robust'].round(4))\n",
    "\n",
    "    print(\"\\nSignif. codes: 0 '***' 0.001 '**' 0.01 '*' 0.05 '.' 0.1 ' ' 1\")"
   ]
  }
 ],
 "metadata": {
  "colab": {
   "authorship_tag": "ABX9TyM0/AFPZ4ne1qulxKz8w/Iw",
   "provenance": []
  },
  "kernelspec": {
   "display_name": "Python 3",
   "name": "python3"
  },
  "language_info": {
   "name": "python"
  }
 },
 "nbformat": 4,
 "nbformat_minor": 0
}
